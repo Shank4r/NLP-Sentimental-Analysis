{
 "metadata": {
  "language_info": {
   "codemirror_mode": {
    "name": "ipython",
    "version": 3
   },
   "file_extension": ".py",
   "mimetype": "text/x-python",
   "name": "python",
   "nbconvert_exporter": "python",
   "pygments_lexer": "ipython3",
   "version": "3.8.3-final"
  },
  "orig_nbformat": 2,
  "kernelspec": {
   "name": "python3",
   "display_name": "Python 3"
  }
 },
 "nbformat": 4,
 "nbformat_minor": 2,
 "cells": [
  {
   "cell_type": "code",
   "execution_count": 23,
   "metadata": {},
   "outputs": [
    {
     "output_type": "execute_result",
     "data": {
      "text/plain": [
       "             S/A\n",
       "Date            \n",
       "2017-01-01  0.68\n",
       "2017-01-02  0.76\n",
       "2017-01-03  0.69\n",
       "2017-01-04  0.66\n",
       "2017-01-05  0.64\n",
       "...          ...\n",
       "2019-12-27  0.88\n",
       "2019-12-28  0.69\n",
       "2019-12-29  0.89\n",
       "2019-12-30  0.80\n",
       "2019-12-31  0.71\n",
       "\n",
       "[1095 rows x 1 columns]"
      ],
      "text/html": "<div>\n<style scoped>\n    .dataframe tbody tr th:only-of-type {\n        vertical-align: middle;\n    }\n\n    .dataframe tbody tr th {\n        vertical-align: top;\n    }\n\n    .dataframe thead th {\n        text-align: right;\n    }\n</style>\n<table border=\"1\" class=\"dataframe\">\n  <thead>\n    <tr style=\"text-align: right;\">\n      <th></th>\n      <th>S/A</th>\n    </tr>\n    <tr>\n      <th>Date</th>\n      <th></th>\n    </tr>\n  </thead>\n  <tbody>\n    <tr>\n      <th>2017-01-01</th>\n      <td>0.68</td>\n    </tr>\n    <tr>\n      <th>2017-01-02</th>\n      <td>0.76</td>\n    </tr>\n    <tr>\n      <th>2017-01-03</th>\n      <td>0.69</td>\n    </tr>\n    <tr>\n      <th>2017-01-04</th>\n      <td>0.66</td>\n    </tr>\n    <tr>\n      <th>2017-01-05</th>\n      <td>0.64</td>\n    </tr>\n    <tr>\n      <th>...</th>\n      <td>...</td>\n    </tr>\n    <tr>\n      <th>2019-12-27</th>\n      <td>0.88</td>\n    </tr>\n    <tr>\n      <th>2019-12-28</th>\n      <td>0.69</td>\n    </tr>\n    <tr>\n      <th>2019-12-29</th>\n      <td>0.89</td>\n    </tr>\n    <tr>\n      <th>2019-12-30</th>\n      <td>0.80</td>\n    </tr>\n    <tr>\n      <th>2019-12-31</th>\n      <td>0.71</td>\n    </tr>\n  </tbody>\n</table>\n<p>1095 rows × 1 columns</p>\n</div>"
     },
     "metadata": {},
     "execution_count": 23
    }
   ],
   "source": [
    "import pandas as pd\n",
    "\n",
    "df = pd.read_csv('twitter_dataset.csv', names=('Date', 'S/A'))\n",
    "df = df.set_index('Date')\n",
    "df"
   ]
  },
  {
   "cell_type": "code",
   "execution_count": null,
   "metadata": {},
   "outputs": [],
   "source": []
  }
 ]
}